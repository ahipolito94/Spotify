{
 "cells": [
  {
   "cell_type": "markdown",
   "metadata": {},
   "source": [
    "<hr>\n",
    "## <a id='machine_learning'>4. Machine Learning</a>"
   ]
  },
  {
   "cell_type": "markdown",
   "metadata": {},
   "source": [
    "#### Features & Target Variables , Training / Testing Data"
   ]
  },
  {
   "cell_type": "code",
   "execution_count": 9,
   "metadata": {
    "collapsed": true
   },
   "outputs": [],
   "source": [
    "# IMPORT PACKAGES\n",
    "from sklearn.neighbors import KNeighborsClassifier\n",
    "from sklearn.model_selection import train_test_split, cross_val_score\n",
    "\n",
    "# ADD TARGET COLUMN, 1 FOR LIKED SONGS, 0 FOR DISLIKED SONGS\n",
    "liked['TARGET'] = 1\n",
    "disliked['TARGET'] = 0\n",
    "\n",
    "# COMBINE LIKED and DISLIKED PLAYLIST\n",
    "combined = pd.concat([liked,disliked], ignore_index=True)\n",
    "\n",
    "# FEATURES & TARGET VARIABLE\n",
    "features = combined[['BPM','ENERGY','DANCE','LOUD','VALENCE','ACOUSTIC','POPULARITY']]\n",
    "target = combined['TARGET']\n",
    "\n",
    "# TRAINING / TESTING DATA\n",
    "X_train, X_test, y_train, y_test = train_test_split(features, target)"
   ]
  },
  {
   "cell_type": "code",
   "execution_count": 34,
   "metadata": {},
   "outputs": [
    {
     "data": {
      "text/html": [
       "<div>\n",
       "<style>\n",
       "    .dataframe thead tr:only-child th {\n",
       "        text-align: right;\n",
       "    }\n",
       "\n",
       "    .dataframe thead th {\n",
       "        text-align: left;\n",
       "    }\n",
       "\n",
       "    .dataframe tbody tr th {\n",
       "        vertical-align: top;\n",
       "    }\n",
       "</style>\n",
       "<table border=\"1\" class=\"dataframe\">\n",
       "  <thead>\n",
       "    <tr style=\"text-align: right;\">\n",
       "      <th></th>\n",
       "      <th>TITLE</th>\n",
       "      <th>ARTIST</th>\n",
       "      <th>BPM</th>\n",
       "      <th>ENERGY</th>\n",
       "      <th>DANCE</th>\n",
       "      <th>LOUD</th>\n",
       "      <th>VALENCE</th>\n",
       "      <th>ACOUSTIC</th>\n",
       "      <th>POPULARITY</th>\n",
       "      <th>YEAR</th>\n",
       "      <th>DURATION</th>\n",
       "      <th>TARGET</th>\n",
       "    </tr>\n",
       "  </thead>\n",
       "  <tbody>\n",
       "    <tr>\n",
       "      <th>0</th>\n",
       "      <td>Where Is My Mind?</td>\n",
       "      <td>Pixies</td>\n",
       "      <td>81.0</td>\n",
       "      <td>44.0</td>\n",
       "      <td>51.0</td>\n",
       "      <td>-14.0</td>\n",
       "      <td>24.0</td>\n",
       "      <td>1.0</td>\n",
       "      <td>35.0</td>\n",
       "      <td>2004</td>\n",
       "      <td>229</td>\n",
       "      <td>1</td>\n",
       "    </tr>\n",
       "    <tr>\n",
       "      <th>1</th>\n",
       "      <td>Give Me Nurture</td>\n",
       "      <td>rei brown</td>\n",
       "      <td>97.0</td>\n",
       "      <td>34.0</td>\n",
       "      <td>65.0</td>\n",
       "      <td>-5.0</td>\n",
       "      <td>7.0</td>\n",
       "      <td>88.0</td>\n",
       "      <td>33.0</td>\n",
       "      <td>2016</td>\n",
       "      <td>89</td>\n",
       "      <td>1</td>\n",
       "    </tr>\n",
       "    <tr>\n",
       "      <th>2</th>\n",
       "      <td>Lullaby</td>\n",
       "      <td>Atlas Bound</td>\n",
       "      <td>73.0</td>\n",
       "      <td>38.0</td>\n",
       "      <td>73.0</td>\n",
       "      <td>-9.0</td>\n",
       "      <td>17.0</td>\n",
       "      <td>38.0</td>\n",
       "      <td>56.0</td>\n",
       "      <td>2016</td>\n",
       "      <td>220</td>\n",
       "      <td>1</td>\n",
       "    </tr>\n",
       "    <tr>\n",
       "      <th>3</th>\n",
       "      <td>Warm On A Cold Night</td>\n",
       "      <td>HONNE</td>\n",
       "      <td>83.0</td>\n",
       "      <td>61.0</td>\n",
       "      <td>34.0</td>\n",
       "      <td>-6.0</td>\n",
       "      <td>39.0</td>\n",
       "      <td>19.0</td>\n",
       "      <td>63.0</td>\n",
       "      <td>2016</td>\n",
       "      <td>262</td>\n",
       "      <td>1</td>\n",
       "    </tr>\n",
       "    <tr>\n",
       "      <th>4</th>\n",
       "      <td>Release You</td>\n",
       "      <td>Tom Misch</td>\n",
       "      <td>120.0</td>\n",
       "      <td>36.0</td>\n",
       "      <td>54.0</td>\n",
       "      <td>-13.0</td>\n",
       "      <td>20.0</td>\n",
       "      <td>33.0</td>\n",
       "      <td>53.0</td>\n",
       "      <td>2014</td>\n",
       "      <td>233</td>\n",
       "      <td>1</td>\n",
       "    </tr>\n",
       "  </tbody>\n",
       "</table>\n",
       "</div>"
      ],
      "text/plain": [
       "                  TITLE       ARTIST    BPM  ENERGY  DANCE  LOUD  VALENCE  \\\n",
       "0     Where Is My Mind?       Pixies   81.0    44.0   51.0 -14.0     24.0   \n",
       "1       Give Me Nurture    rei brown   97.0    34.0   65.0  -5.0      7.0   \n",
       "2               Lullaby  Atlas Bound   73.0    38.0   73.0  -9.0     17.0   \n",
       "3  Warm On A Cold Night        HONNE   83.0    61.0   34.0  -6.0     39.0   \n",
       "4           Release You    Tom Misch  120.0    36.0   54.0 -13.0     20.0   \n",
       "\n",
       "   ACOUSTIC  POPULARITY  YEAR  DURATION  TARGET  \n",
       "0       1.0        35.0  2004       229       1  \n",
       "1      88.0        33.0  2016        89       1  \n",
       "2      38.0        56.0  2016       220       1  \n",
       "3      19.0        63.0  2016       262       1  \n",
       "4      33.0        53.0  2014       233       1  "
      ]
     },
     "execution_count": 34,
     "metadata": {},
     "output_type": "execute_result"
    }
   ],
   "source": [
    "combined.head()"
   ]
  },
  {
   "cell_type": "code",
   "execution_count": 39,
   "metadata": {},
   "outputs": [
    {
     "name": "stdout",
     "output_type": "stream",
     "text": [
      "Features Training Set: (861, 7) Features Testing Set: (288, 7)\n",
      "Target Training Set: (861,) Target Testing Set: (288,)\n"
     ]
    }
   ],
   "source": [
    "print('Features Training Set:', X_train.shape, 'Features Testing Set:', X_test.shape)\n",
    "print('Target Training Set:', y_train.shape, 'Target Testing Set:', y_test.shape)\n"
   ]
  },
  {
   "cell_type": "markdown",
   "metadata": {},
   "source": [
    "<hr>\n",
    "### <a id='knn'>4.1. k-Nearest Neighbor Classifier</a>"
   ]
  },
  {
   "cell_type": "markdown",
   "metadata": {},
   "source": [
    "#### Choosing Optimal k Number of Neighbors"
   ]
  },
  {
   "cell_type": "code",
   "execution_count": 10,
   "metadata": {},
   "outputs": [
    {
     "name": "stdout",
     "output_type": "stream",
     "text": [
      "The optimal number of neighbors is 7\n"
     ]
    },
    {
     "data": {
      "image/png": "[encoded data removed]",
      "text/plain": [
       "<matplotlib.figure.Figure at 0x106889710>"
      ]
     },
     "metadata": {},
     "output_type": "display_data"
    }
   ],
   "source": [
    "''' Following code from https://kevinzakka.github.io/2016/07/13/k-nearest-neighbor/ '''\n",
    "\n",
    "# Setup \n",
    "neighbors = np.arange(1, 9)\n",
    "cv_scores = []\n",
    "\n",
    "# perform 10-fold cross validation\n",
    "for k in neighbors:\n",
    "    knn = KNeighborsClassifier(n_neighbors=k)\n",
    "    scores = cross_val_score(knn, X_train, y_train, cv=10, scoring='accuracy')\n",
    "    cv_scores.append(scores.mean())\n",
    "\n",
    "MSE = [1 - x for x in cv_scores]\n",
    "\n",
    "# determining best k\n",
    "optimal_k = neighbors[MSE.index(min(MSE))]\n",
    "print(\"The optimal number of neighbors is %d\" % optimal_k)\n",
    "\n",
    "# plot misclassification error vs k\n",
    "plt.plot(neighbors, MSE)\n",
    "plt.xlabel('Number of Neighbors K', fontsize=22)\n",
    "plt.ylabel('Misclassification Error', fontsize=22)\n",
    "plt.rc('xtick', labelsize=20) \n",
    "plt.rc('ytick', labelsize=20) \n",
    "plt.show()"
   ]
  },
  {
   "cell_type": "markdown",
   "metadata": {},
   "source": [
    "#### Using k-NN Classifier with k=7"
   ]
  },
  {
   "cell_type": "code",
   "execution_count": 32,
   "metadata": {},
   "outputs": [
    {
     "name": "stdout",
     "output_type": "stream",
     "text": [
      "Test Score: 0.805555555556\n"
     ]
    }
   ],
   "source": [
    "# SETUP K-NN CLASSIFIER K=7\n",
    "knn = KNeighborsClassifier(n_neighbors=7)\n",
    "\n",
    "# FIT CLASSIFIER W/ K NEIGHBORS TO TRAINING DATA\n",
    "knn.fit(X_train, y_train)\n",
    "y_pred = knn.predict(X_test)\n",
    "\n",
    "\n",
    "#knn_score = knn.score(X_test, y_test)\n",
    "knn_score = accuracy_score(y_test, y_pred)\n",
    "print('Test Score:', knn_score)"
   ]
  },
  {
   "cell_type": "markdown",
   "metadata": {},
   "source": [
    "#### Testing Classifier Accuracy with New Liked Playlist"
   ]
  },
  {
   "cell_type": "code",
   "execution_count": 12,
   "metadata": {},
   "outputs": [
    {
     "name": "stderr",
     "output_type": "stream",
     "text": [
      "/Users/ahipolito94/anaconda/lib/python3.6/site-packages/ipykernel_launcher.py:12: FutureWarning: convert_objects is deprecated.  Use the data-type specific converters pd.to_datetime, pd.to_timedelta and pd.to_numeric.\n",
      "  if sys.path[0] == '':\n",
      "/Users/ahipolito94/anaconda/lib/python3.6/site-packages/ipykernel_launcher.py:15: FutureWarning: convert_objects is deprecated.  Use the data-type specific converters pd.to_datetime, pd.to_timedelta and pd.to_numeric.\n",
      "  from ipykernel import kernelapp as app\n",
      "/Users/ahipolito94/anaconda/lib/python3.6/site-packages/ipykernel_launcher.py:16: FutureWarning: convert_objects is deprecated.  Use the data-type specific converters pd.to_datetime, pd.to_timedelta and pd.to_numeric.\n",
      "  app.launch_new_instance()\n"
     ]
    }
   ],
   "source": [
    "# GET NEW LIKED PLAYLIST\n",
    "new_liked = pd.read_excel('Google Drive/Springboard/Capstone1/NEW_LIKES.xlsx')\n",
    "\n",
    "# DROP MISSING DATA \n",
    "new_liked = new_liked.dropna().reset_index(drop=True)\n",
    "\n",
    "# CHANGE COLUMN NAME FROM 'POP.' TO 'POPULARITY'\n",
    "new_liked = new_liked.rename(columns=lambda x: x.replace('POP.', 'POPULARITY'))\n",
    "\n",
    "# ADD 'YEAR' COLUMN FROM 'RELEASE' COLUMN & CONVERT OBJECT TYPE TO NUMERIC TYPE\n",
    "new_liked['YEAR'] = new_liked['RELEASE'].astype(str).str[0:4]\n",
    "new_liked['YEAR'] = new_liked['YEAR'].convert_objects(convert_numeric=True)\n",
    "\n",
    "# OBJECT TYPE INTO NUMERIC TYPE IN 'LENGTH' COLUMN \n",
    "new_liked['MINUTES'] = new_liked['LENGTH'].astype(str).str[0:2].convert_objects(convert_numeric=True)\n",
    "new_liked['SECONDS'] = new_liked['LENGTH'].astype(str).str[3:5].convert_objects(convert_numeric=True)\n",
    "\n",
    "# CONVERT MINUTES TO SECONDS & ADD 'DURATION' COLUMN, DROP 'LENGTH', 'MINUTES', 'SECONDS', AND 'RELEASE' COLUMNS\n",
    "new_liked['DURATION'] = new_liked['MINUTES'] * 60 + new_liked['SECONDS']\n",
    "new_liked = new_liked.drop(['LENGTH','MINUTES', 'SECONDS', 'RELEASE'], 1)"
   ]
  },
  {
   "cell_type": "code",
   "execution_count": 13,
   "metadata": {},
   "outputs": [
    {
     "name": "stdout",
     "output_type": "stream",
     "text": [
      "Test Score: 0.733333333333\n"
     ]
    }
   ],
   "source": [
    "# APPLY K-NN CLASSIFIER TO NEW LIKED PLAYLIST\n",
    "new_test = new_liked[['BPM','ENERGY','DANCE','LOUD','VALENCE','ACOUSTIC','POPULARITY']]\n",
    "new_pred = knn.predict(new_test)\n",
    "\n",
    "knn_pred = knn.predict(new_test)\n",
    "knn_new_score = sum(new_pred) / len(new_test)\n",
    "print('Test Score:', knn_new_score)"
   ]
  },
  {
   "cell_type": "code",
   "execution_count": 14,
   "metadata": {
    "scrolled": false
   },
   "outputs": [
    {
     "data": {
      "image/png": "[encoded data removed]",
      "text/plain": [
       "<matplotlib.figure.Figure at 0x115e2ab00>"
      ]
     },
     "metadata": {},
     "output_type": "display_data"
    }
   ],
   "source": [
    "# DATA\n",
    "labels = 'True Positive', 'False Negative'\n",
    "sizes = [sum(new_pred), (len(new_test) - sum(new_pred))]\n",
    "colors = ['blue', 'lightcoral']\n",
    " \n",
    "# PLOT\n",
    "plt.pie(sizes, labels=labels, colors=colors, autopct='%1.1f%%', startangle=140)\n",
    " \n",
    "plt.axis('equal')\n",
    "plt.title('New Liked Playlist', fontsize=22)\n",
    "plt.rcParams['font.size'] = 18\n",
    "plt.show()\n"
   ]
  },
  {
   "cell_type": "markdown",
   "metadata": {},
   "source": [
    "<hr>\n",
    "### <a id='gnb'>4.2. Gaussian Naive Bayes Classifier</a>"
   ]
  },
  {
   "cell_type": "code",
   "execution_count": 15,
   "metadata": {
    "collapsed": true,
    "scrolled": true
   },
   "outputs": [],
   "source": [
    "# IMPORT PACKAGES\n",
    "from sklearn.naive_bayes import GaussianNB\n",
    "from sklearn.metrics import accuracy_score"
   ]
  },
  {
   "cell_type": "code",
   "execution_count": 16,
   "metadata": {},
   "outputs": [
    {
     "name": "stdout",
     "output_type": "stream",
     "text": [
      "Gaussian Naive Bayes Test Score: 0.777777777778\n"
     ]
    }
   ],
   "source": [
    "# APPLY MODEL & SCORE \n",
    "gnb_model = GaussianNB()\n",
    "gnb_model.fit(X_train, y_train)\n",
    "gnb_y_pred = gnb_model.predict(X_test)\n",
    "gnb_score = accuracy_score(y_test, gnb_y_pred, normalize = True)\n",
    "print('Gaussian Naive Bayes Test Score:', gnb_score)"
   ]
  },
  {
   "cell_type": "code",
   "execution_count": 17,
   "metadata": {},
   "outputs": [
    {
     "name": "stdout",
     "output_type": "stream",
     "text": [
      "New Test Score: 0.666666666667\n"
     ]
    }
   ],
   "source": [
    "# APPLY NEW TEST & NEW SCORE\n",
    "gnb_new_pred = gnb_model.predict(new_test)\n",
    "gnb_new_score = sum(gnb_new_pred) / len(new_test)\n",
    "print('New Test Score:', gnb_new_score)"
   ]
  },
  {
   "cell_type": "markdown",
   "metadata": {},
   "source": [
    "<hr>\n",
    "### <a id='dtc'>4.3. Decision Trees Classifier</a>"
   ]
  },
  {
   "cell_type": "code",
   "execution_count": 18,
   "metadata": {
    "collapsed": true
   },
   "outputs": [],
   "source": [
    "# IMPORT PACKAGES\n",
    "from sklearn import tree"
   ]
  },
  {
   "cell_type": "code",
   "execution_count": 19,
   "metadata": {},
   "outputs": [
    {
     "name": "stdout",
     "output_type": "stream",
     "text": [
      "Decision Trees Test Score: 0.725694444444\n"
     ]
    }
   ],
   "source": [
    "# APPLY MODEL & SCORE\n",
    "dtc_model = tree.DecisionTreeClassifier()\n",
    "dtc_model.fit(X_train, y_train)\n",
    "dtc_y_pred = dtc_model.predict(X_test)\n",
    "\n",
    "dtc_score = accuracy_score(y_test, dtc_y_pred)\n",
    "print('Decision Trees Test Score:', dtc_score)"
   ]
  },
  {
   "cell_type": "code",
   "execution_count": 20,
   "metadata": {},
   "outputs": [
    {
     "name": "stdout",
     "output_type": "stream",
     "text": [
      "New Test Score: 0.633333333333\n"
     ]
    }
   ],
   "source": [
    "# APPLY NEW TEST & NEW SCORE\n",
    "dtc_new_pred = dtc_model.predict(new_test)\n",
    "dtc_new_score = sum(dtc_new_pred) / len(new_test)\n",
    "print('New Test Score:', dtc_new_score)"
   ]
  },
  {
   "cell_type": "markdown",
   "metadata": {},
   "source": [
    "<hr>\n",
    "### <a id='svm'>4.4. Support Vector Machine (SVM) Classifier</a>"
   ]
  },
  {
   "cell_type": "code",
   "execution_count": 21,
   "metadata": {
    "collapsed": true
   },
   "outputs": [],
   "source": [
    "# IMPORT PACKAGES\n",
    "from sklearn.svm import SVC"
   ]
  },
  {
   "cell_type": "code",
   "execution_count": 22,
   "metadata": {},
   "outputs": [
    {
     "name": "stdout",
     "output_type": "stream",
     "text": [
      "SVM Test Score: 0.78125\n"
     ]
    }
   ],
   "source": [
    "# APPLY MODEL & SCORE\n",
    "svm_model = SVC(kernel='linear', C=1, gamma=1) \n",
    "svm_model.fit(X_train, y_train)\n",
    "svm_y_pred = svm_model.predict(X_test)\n",
    "\n",
    "svm_score = accuracy_score(y_test, svm_y_pred)\n",
    "print('SVM Test Score:', svm_score)"
   ]
  },
  {
   "cell_type": "code",
   "execution_count": 23,
   "metadata": {},
   "outputs": [
    {
     "name": "stdout",
     "output_type": "stream",
     "text": [
      "New Test Score: 0.833333333333\n"
     ]
    }
   ],
   "source": [
    "# APPLY NEW TEST & NEW SCORE\n",
    "svm_new_pred = svm_model.predict(new_test)\n",
    "svm_new_score = sum(svm_new_pred) / len(new_test)\n",
    "print('New Test Score:', svm_new_score)"
   ]
  },
  {
   "cell_type": "markdown",
   "metadata": {},
   "source": [
    "<hr>\n",
    "### <a id='sgd'>4.5. Stochastic Gradient Descent (SGD) Classifier</a>"
   ]
  },
  {
   "cell_type": "code",
   "execution_count": 24,
   "metadata": {
    "collapsed": true
   },
   "outputs": [],
   "source": [
    "# IMPORT PACKAGES\n",
    "from sklearn.linear_model import SGDClassifier"
   ]
  },
  {
   "cell_type": "code",
   "execution_count": 25,
   "metadata": {},
   "outputs": [
    {
     "name": "stdout",
     "output_type": "stream",
     "text": [
      "SVM Test Score: 0.604166666667\n"
     ]
    },
    {
     "name": "stderr",
     "output_type": "stream",
     "text": [
      "/Users/ahipolito94/anaconda/lib/python3.6/site-packages/sklearn/linear_model/stochastic_gradient.py:84: FutureWarning: max_iter and tol parameters have been added in <class 'sklearn.linear_model.stochastic_gradient.SGDClassifier'> in 0.19. If both are left unset, they default to max_iter=5 and tol=None. If tol is not None, max_iter defaults to max_iter=1000. From 0.21, default max_iter will be 1000, and default tol will be 1e-3.\n",
      "  \"and default tol will be 1e-3.\" % type(self), FutureWarning)\n"
     ]
    }
   ],
   "source": [
    "# APPLY MODEL & SCORE\n",
    "sgd_model = SGDClassifier(loss=\"hinge\", penalty=\"l2\") \n",
    "sgd_model.fit(X_train, y_train)\n",
    "sgd_y_pred = sgd_model.predict(X_test)\n",
    "\n",
    "sgd_score = accuracy_score(y_test, sgd_y_pred)\n",
    "print('SVM Test Score:', sgd_score)"
   ]
  },
  {
   "cell_type": "code",
   "execution_count": 26,
   "metadata": {},
   "outputs": [
    {
     "name": "stdout",
     "output_type": "stream",
     "text": [
      "New Test Score: 0.933333333333\n"
     ]
    }
   ],
   "source": [
    "# APPLY NEW TEST & NEW SCORE\n",
    "sgd_new_pred = sgd_model.predict(new_test)\n",
    "sgd_new_score = sum(sgd_new_pred) / len(new_test)\n",
    "print('New Test Score:', sgd_new_score)"
   ]
  },
  {
   "cell_type": "markdown",
   "metadata": {},
   "source": [
    "<hr>\n",
    "### <a id='compare'>4.6. Comparing Classifiers</a>"
   ]
  },
  {
   "cell_type": "code",
   "execution_count": 27,
   "metadata": {
    "scrolled": true
   },
   "outputs": [
    {
     "data": {
      "text/html": [
       "<div>\n",
       "<style>\n",
       "    .dataframe thead tr:only-child th {\n",
       "        text-align: right;\n",
       "    }\n",
       "\n",
       "    .dataframe thead th {\n",
       "        text-align: left;\n",
       "    }\n",
       "\n",
       "    .dataframe tbody tr th {\n",
       "        vertical-align: top;\n",
       "    }\n",
       "</style>\n",
       "<table border=\"1\" class=\"dataframe\">\n",
       "  <thead>\n",
       "    <tr style=\"text-align: right;\">\n",
       "      <th></th>\n",
       "      <th>Classifier</th>\n",
       "      <th>Accuracy_Scores</th>\n",
       "      <th>New_Scores</th>\n",
       "    </tr>\n",
       "  </thead>\n",
       "  <tbody>\n",
       "    <tr>\n",
       "      <th>0</th>\n",
       "      <td>k-Nearest Neighbor</td>\n",
       "      <td>0.81</td>\n",
       "      <td>0.73</td>\n",
       "    </tr>\n",
       "    <tr>\n",
       "      <th>1</th>\n",
       "      <td>Gaussian Naive Bayes</td>\n",
       "      <td>0.78</td>\n",
       "      <td>0.67</td>\n",
       "    </tr>\n",
       "    <tr>\n",
       "      <th>2</th>\n",
       "      <td>Decision Trees</td>\n",
       "      <td>0.73</td>\n",
       "      <td>0.63</td>\n",
       "    </tr>\n",
       "    <tr>\n",
       "      <th>3</th>\n",
       "      <td>Support Vector Machine</td>\n",
       "      <td>0.78</td>\n",
       "      <td>0.83</td>\n",
       "    </tr>\n",
       "    <tr>\n",
       "      <th>4</th>\n",
       "      <td>Stochastic Gradient Descent</td>\n",
       "      <td>0.60</td>\n",
       "      <td>0.93</td>\n",
       "    </tr>\n",
       "  </tbody>\n",
       "</table>\n",
       "</div>"
      ],
      "text/plain": [
       "                    Classifier  Accuracy_Scores  New_Scores\n",
       "0           k-Nearest Neighbor             0.81        0.73\n",
       "1         Gaussian Naive Bayes             0.78        0.67\n",
       "2               Decision Trees             0.73        0.63\n",
       "3       Support Vector Machine             0.78        0.83\n",
       "4  Stochastic Gradient Descent             0.60        0.93"
      ]
     },
     "execution_count": 27,
     "metadata": {},
     "output_type": "execute_result"
    }
   ],
   "source": [
    "from decimal import *\n",
    "\n",
    "classifier = ['k-Nearest Neighbor', 'Gaussian Naive Bayes', \n",
    "              'Decision Trees', 'Support Vector Machine', 'Stochastic Gradient Descent']\n",
    "\n",
    "accuracy_scores = [knn_score, gnb_score, dtc_score, svm_score, sgd_score]\n",
    "accuracy_scores = [float(Decimal(\"%.2f\" % e)) for e in accuracy_scores]\n",
    "\n",
    "new_scores = [knn_new_score, gnb_new_score, dtc_new_score, svm_new_score, sgd_new_score]\n",
    "new_scores = [float(Decimal(\"%.2f\" % e)) for e in new_scores]\n",
    "\n",
    "comparison = pd.DataFrame(list(zip(classifier, accuracy_scores, new_scores)),\n",
    "              columns=['Classifier','Accuracy_Scores','New_Scores'])\n",
    "comparison"
   ]
  },
  {
   "cell_type": "code",
   "execution_count": 28,
   "metadata": {
    "scrolled": false
   },
   "outputs": [
    {
     "data": {
      "image/png": "[encoded data removed]",
      "text/plain": [
       "<matplotlib.figure.Figure at 0x11648b908>"
      ]
     },
     "metadata": {},
     "output_type": "display_data"
    }
   ],
   "source": [
    "sns.set()\n",
    "ax = comparison.plot.bar()\n",
    "ax.set_xticklabels(comparison['Classifier'], rotation=30, fontsize=16)\n",
    "plt.ylabel('Score', fontsize=16)\n",
    "plt.legend(loc='best')\n",
    "\n",
    "plt.show()"
   ]
  },
  {
   "cell_type": "markdown",
   "metadata": {},
   "source": [
    "<hr>\n",
    "\n",
    "## <a href='#top'>Back to Top ^</a>\n",
    "\n",
    "<hr>"
   ]
  }
 ],
 "metadata": {
  "kernelspec": {
   "display_name": "Python 3",
   "language": "python",
   "name": "python3"
  },
  "language_info": {
   "codemirror_mode": {
    "name": "ipython",
    "version": 3
   },
   "file_extension": ".py",
   "mimetype": "text/x-python",
   "name": "python",
   "nbconvert_exporter": "python",
   "pygments_lexer": "ipython3",
   "version": "3.6.1"
  }
 },
 "nbformat": 4,
 "nbformat_minor": 2
}
